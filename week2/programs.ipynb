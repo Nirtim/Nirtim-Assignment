{
 "cells": [
  {
   "cell_type": "code",
   "execution_count": 1,
   "metadata": {},
   "outputs": [
    {
     "name": "stdout",
     "output_type": "stream",
     "text": [
      "Hello, what is your name? Nirtim\n",
      "Hello, Nirtim. Good to meet you!\n"
     ]
    }
   ],
   "source": [
    "#Q1\n",
    "name = input(\"Hello, what is your name? \")\n",
    "print(f\"Hello, {name}. Good to meet you!\")"
   ]
  },
  {
   "cell_type": "code",
   "execution_count": 2,
   "metadata": {},
   "outputs": [
    {
     "name": "stdout",
     "output_type": "stream",
     "text": [
      "Enter temperature in Celsius: 10\n",
      "10.0C is equal to 50.0F\n"
     ]
    }
   ],
   "source": [
    "#Q2\n",
    "cel = float(input(\"Enter temperature in Celsius: \"))\n",
    "fah = cel * (9/5) + 32\n",
    "print(f\"{cel}C is equal to {fah}F\")"
   ]
  },
  {
   "cell_type": "code",
   "execution_count": 3,
   "metadata": {},
   "outputs": [
    {
     "name": "stdout",
     "output_type": "stream",
     "text": [
      "How many students? 10\n",
      "Required group size? 5\n",
      "There will be 2 groups with 0 students left over.\n"
     ]
    }
   ],
   "source": [
    "#Q3\n",
    "students = int(input(\"How many students? \"))\n",
    "size = int(input(\"Required group size? \"))\n",
    "    \n",
    "groups = students // size\n",
    "remaining = students % size\n",
    "    \n",
    "if groups == 1 and remaining != 1:\n",
    "        print(f\"There will be {groups} group with {remaining} students left over.\")\n",
    "        \n",
    "elif groups != 1 and remaining == 1:    \n",
    "        print(f\"There will be {groups} groups with {remaining} student left over.\")\n",
    "\n",
    "elif groups == 1 and remaining == 1:\n",
    "        print(f\"There will be {groups} group with {remaining} student left over.\")\n",
    "\n",
    "else:\n",
    "    print(f\"There will be {groups} groups with {remaining} students left over.\")\n"
   ]
  },
  {
   "cell_type": "code",
   "execution_count": 4,
   "metadata": {},
   "outputs": [
    {
     "name": "stdout",
     "output_type": "stream",
     "text": [
      "Number of pupils? 10\n",
      "How many sweets? 10\n",
      "Each student will get 1 sweets!\n"
     ]
    }
   ],
   "source": [
    "#Q4\n",
    "pupils = int(input(\"Number of pupils? \"))\n",
    "sweets = int(input(\"How many sweets? \"))\n",
    "\n",
    "pupil_sweet = pupils // sweets\n",
    "leftover_sweets = pupils % sweets\n",
    "\n",
    "print(f\"Each student will get {pupil_sweet} sweets!\")"
   ]
  }
 ],
 "metadata": {
  "kernelspec": {
   "display_name": "Python 3 (ipykernel)",
   "language": "python",
   "name": "python3"
  },
  "language_info": {
   "codemirror_mode": {
    "name": "ipython",
    "version": 3
   },
   "file_extension": ".py",
   "mimetype": "text/x-python",
   "name": "python",
   "nbconvert_exporter": "python",
   "pygments_lexer": "ipython3",
   "version": "3.10.9"
  }
 },
 "nbformat": 4,
 "nbformat_minor": 2
}
